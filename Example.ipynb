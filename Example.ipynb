{
 "cells": [
  {
   "attachments": {},
   "cell_type": "markdown",
   "metadata": {},
   "source": [
    "# Imports "
   ]
  },
  {
   "cell_type": "code",
   "execution_count": 13,
   "metadata": {},
   "outputs": [],
   "source": [
    "from typing import List\n",
    "from typing import Union\n",
    "from typing import Tuple\n",
    "from IPython.display import display\n",
    "from IPython.display import Markdown\n",
    "import hashlib\n",
    "import os \n",
    "import numpy as np\n",
    "from datetime import datetime\n",
    "from tqdm import tqdm\n",
    "from lz78 import LZ78\n",
    "\n",
    "render = lambda x: display(Markdown(x))"
   ]
  },
  {
   "attachments": {},
   "cell_type": "markdown",
   "metadata": {},
   "source": [
    "# Reading Files "
   ]
  },
  {
   "cell_type": "code",
   "execution_count": 9,
   "metadata": {},
   "outputs": [
    {
     "data": {
      "text/plain": [
       "['a_room_with_a_view.txt',\n",
       " 'alices_adventures_in_wonderland.txt',\n",
       " 'dracula.txt',\n",
       " 'mob_dick.txt',\n",
       " 'pride_and_prejudice.txt',\n",
       " 'romeo_and_juliet.txt',\n",
       " 'the_odyssey.txt',\n",
       " 'the_picture_of_dorian_gray.txt',\n",
       " 'twenty_years_after.txt',\n",
       " 'ulysses.txt']"
      ]
     },
     "execution_count": 9,
     "metadata": {},
     "output_type": "execute_result"
    }
   ],
   "source": [
    "base_path = './data/'\n",
    "outputs_path = './output/'\n",
    "files = os.listdir(base_path)\n",
    "files.sort()\n",
    "files"
   ]
  },
  {
   "cell_type": "code",
   "execution_count": 10,
   "metadata": {},
   "outputs": [],
   "source": [
    "files_mapper_name = {\n",
    "    'a_room_with_a_view.txt':'A Room with a View',\n",
    "    'alices_adventures_in_wonderland.txt': \"Alice's Adventures in Wonderland\",\n",
    "    'dracula.txt':'Dracula',\n",
    "    'mob_dick.txt':'Mob Dick',\n",
    "    'pride_and_prejudice.txt':'Pride and Prejudice',\n",
    "    'romeo_and_juliet.txt':'Romeo and Juliet',\n",
    "    'the_odyssey.txt':'The Odyssey',\n",
    "    'the_picture_of_dorian_gray.txt':'The Picture of Dorian Gray',\n",
    "    'twenty_years_after.txt':'Twenty Years After',\n",
    "    'ulysses.txt':'Ulysses',\n",
    "}"
   ]
  },
  {
   "attachments": {},
   "cell_type": "markdown",
   "metadata": {},
   "source": [
    "## Algorithm"
   ]
  },
  {
   "cell_type": "code",
   "execution_count": 14,
   "metadata": {},
   "outputs": [],
   "source": [
    "lz78:LZ78 = LZ78()"
   ]
  },
  {
   "cell_type": "code",
   "execution_count": 19,
   "metadata": {},
   "outputs": [
    {
     "data": {
      "text/markdown": [
       "\n",
       "    ***\n",
       "\n",
       "    * ID                         : 0\n",
       "    * Book                       : A Room with a View\n",
       "    * File Name                  : ./data/a_room_with_a_view.txt\n",
       "    * Compressed File Name       : ./output/a_room_with_a_view.lz78\n",
       "    * Original file MD5 Hash     : `3c60e35445d2a92a45542e208e3622a3`\n",
       "    * Decompressed file MD5 Hash : `3c60e35445d2a92a45542e208e3622a3`\n",
       "    * Compressed file MD5 Hash   : `58630fb240da593fe86a7ac56fbb9cdd`\n",
       "    * Correct Descompression?    : Yes\n",
       "    * Original Size              : 406490B\n",
       "    * Compressed Size            : 309278B\n",
       "    * Difference                 : 97212B\n",
       "    * Reduction Percentage       : 23.91%\n",
       "    * Encoding time              : 114.086839s\n",
       "    * Decoding time              : 2.804593s\n",
       "    * Total time                 : 116.891432s\n",
       "    "
      ],
      "text/plain": [
       "<IPython.core.display.Markdown object>"
      ]
     },
     "metadata": {},
     "output_type": "display_data"
    },
    {
     "data": {
      "text/markdown": [
       "\n",
       "    ***\n",
       "\n",
       "    * ID                         : 1\n",
       "    * Book                       : Alice's Adventures in Wonderland\n",
       "    * File Name                  : ./data/alices_adventures_in_wonderland.txt\n",
       "    * Compressed File Name       : ./output/alices_adventures_in_wonderland.lz78\n",
       "    * Original file MD5 Hash     : `52c1597f26c5f35afbcdd9c0dfa81057`\n",
       "    * Decompressed file MD5 Hash : `52c1597f26c5f35afbcdd9c0dfa81057`\n",
       "    * Compressed file MD5 Hash   : `633fe0221f3626784e883ed31d861064`\n",
       "    * Correct Descompression?    : Yes\n",
       "    * Original Size              : 170517B\n",
       "    * Compressed Size            : 127124B\n",
       "    * Difference                 : 43393B\n",
       "    * Reduction Percentage       : 25.45%\n",
       "    * Encoding time              : 17.552642s\n",
       "    * Decoding time              : 0.490239s\n",
       "    * Total time                 : 18.042881s\n",
       "    "
      ],
      "text/plain": [
       "<IPython.core.display.Markdown object>"
      ]
     },
     "metadata": {},
     "output_type": "display_data"
    }
   ],
   "source": [
    "for en, each_file in enumerate(files):\n",
    "\n",
    "    original_path = base_path+each_file\n",
    "    compressed_path = outputs_path + each_file[:-4] + '.lz78' \n",
    "    descompressed_path = outputs_path + each_file[:-4] + '_dec.txt'\n",
    "\n",
    "    start_time = datetime.now()\n",
    "    encoding_start_time = start_time\n",
    "    \n",
    "    original_md5 = hashlib.md5(lz78.read_file(original_path).encode()).hexdigest()\n",
    "    lz78.encode(original_path, compressed_path, 36)\n",
    "    \n",
    "    encoding_end_time = datetime.now()\n",
    "    decoding_start_time = datetime.now()\n",
    "\n",
    "    compressed_md5 = hashlib.md5(lz78.read_file(compressed_path).encode()).hexdigest()\n",
    "    lz78.decode(compressed_path, descompressed_path, 36)\n",
    "    \n",
    "    decoding_end_time = datetime.now()\n",
    "\n",
    "    descompressed_md5 = hashlib.md5(lz78.read_file(descompressed_path).encode()).hexdigest()\n",
    "\n",
    "    original_size = os.path.getsize(original_path)\n",
    "    compressed_size = os.path.getsize(compressed_path)\n",
    "\n",
    "    encoding_time = (encoding_end_time - encoding_start_time).total_seconds()\n",
    "    decoding_time = (decoding_end_time - decoding_start_time).total_seconds()\n",
    "    total_time = decoding_time + encoding_time\n",
    "\n",
    "    render(\"\"\"\n",
    "    ***\n",
    "\n",
    "    * ID                         : {}\n",
    "    * Book                       : {}\n",
    "    * File Name                  : {}\n",
    "    * Compressed File Name       : {}\n",
    "    * Original file MD5 Hash     : `{}`\n",
    "    * Decompressed file MD5 Hash : `{}`\n",
    "    * Compressed file MD5 Hash   : `{}`\n",
    "    * Correct Descompression?    : {}\n",
    "    * Original Size              : {}B\n",
    "    * Compressed Size            : {}B\n",
    "    * Difference                 : {}B\n",
    "    * Reduction Percentage       : {:.2f}%\n",
    "    * Encoding time              : {:4f}s\n",
    "    * Decoding time              : {:4f}s\n",
    "    * Total time                 : {:4f}s\n",
    "    \"\"\".format(\n",
    "        en,\n",
    "        files_mapper_name[each_file],\n",
    "        original_path,\n",
    "        compressed_path,\n",
    "        original_md5,\n",
    "        descompressed_md5,\n",
    "        compressed_md5,\n",
    "        'Yes' if original_md5 == descompressed_md5 else 'No',\n",
    "        original_size,\n",
    "        compressed_size,\n",
    "        original_size-compressed_size,\n",
    "        100*((original_size-compressed_size)/original_size),\n",
    "        encoding_time,\n",
    "        decoding_time,\n",
    "        total_time\n",
    "    ))\n",
    "    "
   ]
  }
 ],
 "metadata": {
  "kernelspec": {
   "display_name": "py36",
   "language": "python",
   "name": "python3"
  },
  "language_info": {
   "codemirror_mode": {
    "name": "ipython",
    "version": 3
   },
   "file_extension": ".py",
   "mimetype": "text/x-python",
   "name": "python",
   "nbconvert_exporter": "python",
   "pygments_lexer": "ipython3",
   "version": "3.6.13"
  },
  "orig_nbformat": 4
 },
 "nbformat": 4,
 "nbformat_minor": 2
}
